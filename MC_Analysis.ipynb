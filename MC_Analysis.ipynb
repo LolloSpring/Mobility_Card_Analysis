{
 "cells": [
  {
   "cell_type": "code",
   "execution_count": 184,
   "metadata": {
    "collapsed": true
   },
   "outputs": [],
   "source": [
    "import pandas as pd\n",
    "import numpy as np\n",
    "import matplotlib.pyplot as plt"
   ]
  },
  {
   "cell_type": "code",
   "execution_count": 185,
   "metadata": {
    "collapsed": false
   },
   "outputs": [
    {
     "data": {
      "text/html": [
       "<div>\n",
       "<table border=\"1\" class=\"dataframe\">\n",
       "  <thead>\n",
       "    <tr style=\"text-align: right;\">\n",
       "      <th></th>\n",
       "      <th>PROGRESSIVO</th>\n",
       "      <th>CITTADINANZA_DESC</th>\n",
       "      <th>TIPO_CITTADINANZA_DESC</th>\n",
       "      <th>FACOLTA_DESC</th>\n",
       "      <th>CDS_DESC</th>\n",
       "      <th>TIPO_CORSO_DESC</th>\n",
       "      <th>TipoAbbonamento</th>\n",
       "      <th>COMUNE_RESIDENZA_DESC</th>\n",
       "      <th>PROVINCIA_RESIDENZA_DESC</th>\n",
       "      <th>REGIONE_RESIDENZA_DESC</th>\n",
       "      <th>NAZIONE_RESIDENZA_DESC</th>\n",
       "    </tr>\n",
       "  </thead>\n",
       "  <tbody>\n",
       "    <tr>\n",
       "      <th>0</th>\n",
       "      <td>PROGRESSIVO</td>\n",
       "      <td>CITTADINANZA_DESC</td>\n",
       "      <td>TIPO_CITTADINANZA_DESC</td>\n",
       "      <td>FACOLTA_DESC</td>\n",
       "      <td>CDS_DESC</td>\n",
       "      <td>TIPO_CORSO_DES</td>\n",
       "      <td>TipoAbbomanento</td>\n",
       "      <td>COMUNE_RESIDENZA_DESC</td>\n",
       "      <td>PROVINCIA_RESIDENZA_DESC</td>\n",
       "      <td>REGIONE_RESIDENZA_DESC</td>\n",
       "      <td>NAZIONE_RESIDENZA_DESC</td>\n",
       "    </tr>\n",
       "    <tr>\n",
       "      <th>1</th>\n",
       "      <td>1</td>\n",
       "      <td>ITALIA</td>\n",
       "      <td>Italiana</td>\n",
       "      <td>Corsi di Dottorato</td>\n",
       "      <td>Materiali, meccatronica e ingegneria dei sistemi</td>\n",
       "      <td>Corso di Dottorato</td>\n",
       "      <td>OpenMove</td>\n",
       "      <td>Gazzo Veronese</td>\n",
       "      <td>Verona</td>\n",
       "      <td>Veneto</td>\n",
       "      <td>ITALIA</td>\n",
       "    </tr>\n",
       "    <tr>\n",
       "      <th>2</th>\n",
       "      <td>2</td>\n",
       "      <td>ITALIA</td>\n",
       "      <td>Italiana</td>\n",
       "      <td>Corsi di Dottorato</td>\n",
       "      <td>Materiali, meccatronica e ingegneria dei sistemi</td>\n",
       "      <td>Corso di Dottorato</td>\n",
       "      <td>OpenMove</td>\n",
       "      <td>Roma</td>\n",
       "      <td>Roma</td>\n",
       "      <td>Lazio</td>\n",
       "      <td>ITALIA</td>\n",
       "    </tr>\n",
       "    <tr>\n",
       "      <th>3</th>\n",
       "      <td>3</td>\n",
       "      <td>ITALIA</td>\n",
       "      <td>Italiana</td>\n",
       "      <td>Dipartimento di Psicologia e Scienze Cognitive</td>\n",
       "      <td>Psicologia</td>\n",
       "      <td>Corso di Laurea Magistrale</td>\n",
       "      <td>OldSmartCard</td>\n",
       "      <td>VILLE D’ANAUNIA</td>\n",
       "      <td>Trento</td>\n",
       "      <td>Trentino Alto Adige</td>\n",
       "      <td>ITALIA</td>\n",
       "    </tr>\n",
       "    <tr>\n",
       "      <th>4</th>\n",
       "      <td>4</td>\n",
       "      <td>ITALIA</td>\n",
       "      <td>Italiana</td>\n",
       "      <td>Corsi di Dottorato</td>\n",
       "      <td>Scienze Biomolecolari</td>\n",
       "      <td>Corso di Dottorato</td>\n",
       "      <td>NewSmartCard</td>\n",
       "      <td>Trento</td>\n",
       "      <td>Trento</td>\n",
       "      <td>Trentino Alto Adige</td>\n",
       "      <td>ITALIA</td>\n",
       "    </tr>\n",
       "  </tbody>\n",
       "</table>\n",
       "</div>"
      ],
      "text/plain": [
       "   PROGRESSIVO  CITTADINANZA_DESC  TIPO_CITTADINANZA_DESC  \\\n",
       "0  PROGRESSIVO  CITTADINANZA_DESC  TIPO_CITTADINANZA_DESC   \n",
       "1            1             ITALIA                Italiana   \n",
       "2            2             ITALIA                Italiana   \n",
       "3            3             ITALIA                Italiana   \n",
       "4            4             ITALIA                Italiana   \n",
       "\n",
       "                                     FACOLTA_DESC  \\\n",
       "0                                    FACOLTA_DESC   \n",
       "1                              Corsi di Dottorato   \n",
       "2                              Corsi di Dottorato   \n",
       "3  Dipartimento di Psicologia e Scienze Cognitive   \n",
       "4                              Corsi di Dottorato   \n",
       "\n",
       "                                           CDS_DESC  \\\n",
       "0                                          CDS_DESC   \n",
       "1  Materiali, meccatronica e ingegneria dei sistemi   \n",
       "2  Materiali, meccatronica e ingegneria dei sistemi   \n",
       "3                                        Psicologia   \n",
       "4                             Scienze Biomolecolari   \n",
       "\n",
       "              TIPO_CORSO_DESC  TipoAbbonamento  COMUNE_RESIDENZA_DESC  \\\n",
       "0              TIPO_CORSO_DES  TipoAbbomanento  COMUNE_RESIDENZA_DESC   \n",
       "1          Corso di Dottorato         OpenMove         Gazzo Veronese   \n",
       "2          Corso di Dottorato         OpenMove                   Roma   \n",
       "3  Corso di Laurea Magistrale     OldSmartCard        VILLE D’ANAUNIA   \n",
       "4          Corso di Dottorato     NewSmartCard                 Trento   \n",
       "\n",
       "   PROVINCIA_RESIDENZA_DESC  REGIONE_RESIDENZA_DESC  NAZIONE_RESIDENZA_DESC  \n",
       "0  PROVINCIA_RESIDENZA_DESC  REGIONE_RESIDENZA_DESC  NAZIONE_RESIDENZA_DESC  \n",
       "1                    Verona                  Veneto                  ITALIA  \n",
       "2                      Roma                   Lazio                  ITALIA  \n",
       "3                    Trento     Trentino Alto Adige                  ITALIA  \n",
       "4                    Trento     Trentino Alto Adige                  ITALIA  "
      ]
     },
     "execution_count": 185,
     "metadata": {},
     "output_type": "execute_result"
    }
   ],
   "source": [
    "utenti = pd.read_csv(\"Libera Circolazione 2017_dati al 27.10.2017.csv\", sep=\";\", names=['PROGRESSIVO', 'CITTADINANZA_DESC','TIPO_CITTADINANZA_DESC','FACOLTA_DESC','CDS_DESC','TIPO_CORSO_DESC','TipoAbbonamento','COMUNE_RESIDENZA_DESC','PROVINCIA_RESIDENZA_DESC','REGIONE_RESIDENZA_DESC','NAZIONE_RESIDENZA_DESC'])\n",
    "\n",
    "utenti.head()"
   ]
  },
  {
   "cell_type": "code",
   "execution_count": 186,
   "metadata": {
    "collapsed": false
   },
   "outputs": [
    {
     "data": {
      "text/html": [
       "<div>\n",
       "<table border=\"1\" class=\"dataframe\">\n",
       "  <thead>\n",
       "    <tr style=\"text-align: right;\">\n",
       "      <th></th>\n",
       "      <th>PROGRESSIVO</th>\n",
       "      <th>FACOLTA_DESC</th>\n",
       "      <th>CDS_DESC</th>\n",
       "      <th>TIPO_CORSO_DESC</th>\n",
       "    </tr>\n",
       "  </thead>\n",
       "  <tbody>\n",
       "    <tr>\n",
       "      <th>1</th>\n",
       "      <td>1</td>\n",
       "      <td>Corsi di Dottorato</td>\n",
       "      <td>Materiali, meccatronica e ingegneria dei sistemi</td>\n",
       "      <td>Corso di Dottorato</td>\n",
       "    </tr>\n",
       "    <tr>\n",
       "      <th>2</th>\n",
       "      <td>2</td>\n",
       "      <td>Corsi di Dottorato</td>\n",
       "      <td>Materiali, meccatronica e ingegneria dei sistemi</td>\n",
       "      <td>Corso di Dottorato</td>\n",
       "    </tr>\n",
       "    <tr>\n",
       "      <th>3</th>\n",
       "      <td>3</td>\n",
       "      <td>Dipartimento di Psicologia e Scienze Cognitive</td>\n",
       "      <td>Psicologia</td>\n",
       "      <td>Corso di Laurea Magistrale</td>\n",
       "    </tr>\n",
       "    <tr>\n",
       "      <th>4</th>\n",
       "      <td>4</td>\n",
       "      <td>Corsi di Dottorato</td>\n",
       "      <td>Scienze Biomolecolari</td>\n",
       "      <td>Corso di Dottorato</td>\n",
       "    </tr>\n",
       "    <tr>\n",
       "      <th>5</th>\n",
       "      <td>5</td>\n",
       "      <td>Dipartimento di Ingegneria Industriale</td>\n",
       "      <td>Materials and production Engineering - Ingegne...</td>\n",
       "      <td>Corso di Laurea Magistrale</td>\n",
       "    </tr>\n",
       "  </tbody>\n",
       "</table>\n",
       "</div>"
      ],
      "text/plain": [
       "  PROGRESSIVO                                    FACOLTA_DESC  \\\n",
       "1           1                              Corsi di Dottorato   \n",
       "2           2                              Corsi di Dottorato   \n",
       "3           3  Dipartimento di Psicologia e Scienze Cognitive   \n",
       "4           4                              Corsi di Dottorato   \n",
       "5           5          Dipartimento di Ingegneria Industriale   \n",
       "\n",
       "                                            CDS_DESC  \\\n",
       "1   Materiali, meccatronica e ingegneria dei sistemi   \n",
       "2   Materiali, meccatronica e ingegneria dei sistemi   \n",
       "3                                         Psicologia   \n",
       "4                              Scienze Biomolecolari   \n",
       "5  Materials and production Engineering - Ingegne...   \n",
       "\n",
       "              TIPO_CORSO_DESC  \n",
       "1          Corso di Dottorato  \n",
       "2          Corso di Dottorato  \n",
       "3  Corso di Laurea Magistrale  \n",
       "4          Corso di Dottorato  \n",
       "5  Corso di Laurea Magistrale  "
      ]
     },
     "execution_count": 186,
     "metadata": {},
     "output_type": "execute_result"
    }
   ],
   "source": [
    "utenti = utenti.loc[1:,['PROGRESSIVO','FACOLTA_DESC','CDS_DESC','TIPO_CORSO_DESC']]\n",
    "utenti.head()\n"
   ]
  },
  {
   "cell_type": "code",
   "execution_count": 187,
   "metadata": {
    "collapsed": false
   },
   "outputs": [
    {
     "data": {
      "text/plain": [
       "FACOLTA_DESC\n",
       "Dipartimento di Lettere e Filosofia                          1144\n",
       "Dipartimento di Economia e Management                        1137\n",
       "Dipartimento di Ingegneria Civile, Ambientale e Meccanica    1024\n",
       "Facoltà di Giurisprudenza                                    1016\n",
       "Dipartimento di Ingegneria e Scienza dell'Informazione        951\n",
       "Dipartimento di Sociologia e Ricerca Sociale                  705\n",
       "Dipartimento di Ingegneria Industriale                        646\n",
       "Dipartimento di Psicologia e Scienze Cognitive                612\n",
       "Dipartimento di Matematica                                    319\n",
       "Dipartimento di Fisica                                        312\n",
       "Centro Interdipartimentale Biologia Integrata- CIBio          295\n",
       "Centro Agricoltura, Alimenti, Ambiente - C3A                   96\n",
       "Centro interdipartimentale Mente/Cervello- CIMeC               48\n",
       "Scuola di studi Internazionali                                 36\n",
       "Corsi di Dottorato                                             30\n",
       "NON PREVISTA                                                   29\n",
       "Name: PROGRESSIVO, dtype: int64"
      ]
     },
     "execution_count": 187,
     "metadata": {},
     "output_type": "execute_result"
    }
   ],
   "source": [
    "dipartimenti = utenti.groupby(['FACOLTA_DESC'])['PROGRESSIVO'].nunique().sort_values(ascending=False)\n",
    "dipartimenti\n"
   ]
  },
  {
   "cell_type": "code",
   "execution_count": 188,
   "metadata": {
    "collapsed": false
   },
   "outputs": [
    {
     "data": {
      "text/plain": [
       "<matplotlib.text.Text at 0x1193156d8>"
      ]
     },
     "execution_count": 188,
     "metadata": {},
     "output_type": "execute_result"
    },
    {
     "data": {
      "image/png": "[encoded data removed]",
      "text/plain": [
       "<matplotlib.figure.Figure at 0x119309da0>"
      ]
     },
     "metadata": {},
     "output_type": "display_data"
    }
   ],
   "source": [
    "%matplotlib inline\n",
    "dipartimenti.plot(kind='bar', title=\"Numero di utenti per dipartimento\")\n",
    "plt.ylabel('numero utenti')\n",
    "plt.xlabel('dipartimento')\n"
   ]
  },
  {
   "cell_type": "code",
   "execution_count": 189,
   "metadata": {
    "collapsed": false
   },
   "outputs": [],
   "source": [
    "povo = [4,6,8,9,10]\n",
    "mesiano = [2]\n",
    "citta = [0,1,3,5,13]\n",
    "san_michele = [11]\n",
    "rovereto = [8,12]\n",
    "\n",
    "sedi = [povo, mesiano, citta, san_michele, rovereto]\n",
    "utenti_per_sede = []"
   ]
  },
  {
   "cell_type": "code",
   "execution_count": 192,
   "metadata": {
    "collapsed": false
   },
   "outputs": [],
   "source": [
    "for sede in sedi:\n",
    "    totale_utenti_per_sede = 0\n",
    "    for utenti_per_dipartimento_sede in dipartimenti.values[sede]:\n",
    "        totale_utenti_per_sede += utenti_per_dipartimento_sede\n",
    "    utenti_per_sede.append(totale_utenti_per_sede)\n",
    "    \n",
    "utenti_per_sede = sorted(utenti_per_sede, reverse=True)\n"
   ]
  },
  {
   "cell_type": "code",
   "execution_count": 193,
   "metadata": {
    "collapsed": false
   },
   "outputs": [
    {
     "data": {
      "image/png": "[encoded data removed]",
      "text/plain": [
       "<matplotlib.figure.Figure at 0x119123e80>"
      ]
     },
     "metadata": {},
     "output_type": "display_data"
    }
   ],
   "source": [
    "import matplotlib.pyplot as plt\n",
    "\n",
    "labels= ['Città', 'Povo', 'Mesiano', 'Rovereto', 'San Michele']\n",
    "colors=['blue', 'yellow', 'green', 'orange', 'red']\n",
    "utenti_per_sede = [4038, 2523, 1024, 367, 96]\n",
    "\n",
    "\n",
    "plt.pie(utenti_per_sede,labels=labels, colors=colors, startangle=70, autopct='%0.1f%%')\n",
    "\n",
    "plt.axis('equal')\n",
    "\n",
    "plt.show()"
   ]
  },
  {
   "cell_type": "code",
   "execution_count": null,
   "metadata": {
    "collapsed": false
   },
   "outputs": [],
   "source": []
  },
  {
   "cell_type": "code",
   "execution_count": 176,
   "metadata": {
    "collapsed": false
   },
   "outputs": [],
   "source": []
  },
  {
   "cell_type": "code",
   "execution_count": null,
   "metadata": {
    "collapsed": false
   },
   "outputs": [],
   "source": []
  },
  {
   "cell_type": "code",
   "execution_count": null,
   "metadata": {
    "collapsed": false
   },
   "outputs": [],
   "source": []
  },
  {
   "cell_type": "code",
   "execution_count": null,
   "metadata": {
    "collapsed": false
   },
   "outputs": [],
   "source": []
  }
 ],
 "metadata": {
  "kernelspec": {
   "display_name": "Python 3",
   "language": "python",
   "name": "python3"
  },
  "language_info": {
   "codemirror_mode": {
    "name": "ipython",
    "version": 3
   },
   "file_extension": ".py",
   "mimetype": "text/x-python",
   "name": "python",
   "nbconvert_exporter": "python",
   "pygments_lexer": "ipython3",
   "version": "3.6.0"
  }
 },
 "nbformat": 4,
 "nbformat_minor": 2
}
